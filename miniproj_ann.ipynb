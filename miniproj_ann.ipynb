{
 "cells": [
  {
   "cell_type": "code",
   "execution_count": 48,
   "metadata": {
    "id": "oPQDjzZaevpn"
   },
   "outputs": [],
   "source": [
    "import numpy as np\n",
    "import pandas as pd\n",
    "import matplotlib.pyplot as plt"
   ]
  },
  {
   "cell_type": "code",
   "execution_count": 5,
   "metadata": {
    "colab": {
     "base_uri": "https://localhost:8080/",
     "height": 473
    },
    "id": "qOVGKfT6fxtx",
    "outputId": "8bdf09ae-9720-4e4e-ec88-12bd3a58a125"
   },
   "outputs": [
    {
     "data": {
      "text/html": [
       "<div>\n",
       "<style scoped>\n",
       "    .dataframe tbody tr th:only-of-type {\n",
       "        vertical-align: middle;\n",
       "    }\n",
       "\n",
       "    .dataframe tbody tr th {\n",
       "        vertical-align: top;\n",
       "    }\n",
       "\n",
       "    .dataframe thead th {\n",
       "        text-align: right;\n",
       "    }\n",
       "</style>\n",
       "<table border=\"1\" class=\"dataframe\">\n",
       "  <thead>\n",
       "    <tr style=\"text-align: right;\">\n",
       "      <th></th>\n",
       "      <th>Age</th>\n",
       "      <th>Gender</th>\n",
       "      <th>BMI</th>\n",
       "      <th>Fever</th>\n",
       "      <th>Nausea/Vomting</th>\n",
       "      <th>Headache</th>\n",
       "      <th>Diarrhea</th>\n",
       "      <th>Fatigue &amp; generalized bone ache</th>\n",
       "      <th>Jaundice</th>\n",
       "      <th>Epigastric pain</th>\n",
       "      <th>...</th>\n",
       "      <th>ALT 36</th>\n",
       "      <th>ALT 48</th>\n",
       "      <th>ALT after 24 w</th>\n",
       "      <th>RNA Base</th>\n",
       "      <th>RNA 4</th>\n",
       "      <th>RNA 12</th>\n",
       "      <th>RNA EOT</th>\n",
       "      <th>RNA EF</th>\n",
       "      <th>Baseline histological Grading</th>\n",
       "      <th>Baselinehistological staging</th>\n",
       "    </tr>\n",
       "  </thead>\n",
       "  <tbody>\n",
       "    <tr>\n",
       "      <th>0</th>\n",
       "      <td>56</td>\n",
       "      <td>1</td>\n",
       "      <td>35</td>\n",
       "      <td>2</td>\n",
       "      <td>1</td>\n",
       "      <td>1</td>\n",
       "      <td>1</td>\n",
       "      <td>2</td>\n",
       "      <td>2</td>\n",
       "      <td>2</td>\n",
       "      <td>...</td>\n",
       "      <td>5</td>\n",
       "      <td>5</td>\n",
       "      <td>5</td>\n",
       "      <td>655330</td>\n",
       "      <td>634536</td>\n",
       "      <td>288194</td>\n",
       "      <td>5</td>\n",
       "      <td>5</td>\n",
       "      <td>13</td>\n",
       "      <td>2</td>\n",
       "    </tr>\n",
       "    <tr>\n",
       "      <th>1</th>\n",
       "      <td>46</td>\n",
       "      <td>1</td>\n",
       "      <td>29</td>\n",
       "      <td>1</td>\n",
       "      <td>2</td>\n",
       "      <td>2</td>\n",
       "      <td>1</td>\n",
       "      <td>2</td>\n",
       "      <td>2</td>\n",
       "      <td>1</td>\n",
       "      <td>...</td>\n",
       "      <td>57</td>\n",
       "      <td>123</td>\n",
       "      <td>44</td>\n",
       "      <td>40620</td>\n",
       "      <td>538635</td>\n",
       "      <td>637056</td>\n",
       "      <td>336804</td>\n",
       "      <td>31085</td>\n",
       "      <td>4</td>\n",
       "      <td>2</td>\n",
       "    </tr>\n",
       "    <tr>\n",
       "      <th>2</th>\n",
       "      <td>57</td>\n",
       "      <td>1</td>\n",
       "      <td>33</td>\n",
       "      <td>2</td>\n",
       "      <td>2</td>\n",
       "      <td>2</td>\n",
       "      <td>2</td>\n",
       "      <td>1</td>\n",
       "      <td>1</td>\n",
       "      <td>1</td>\n",
       "      <td>...</td>\n",
       "      <td>5</td>\n",
       "      <td>5</td>\n",
       "      <td>5</td>\n",
       "      <td>571148</td>\n",
       "      <td>661346</td>\n",
       "      <td>5</td>\n",
       "      <td>735945</td>\n",
       "      <td>558829</td>\n",
       "      <td>4</td>\n",
       "      <td>4</td>\n",
       "    </tr>\n",
       "    <tr>\n",
       "      <th>3</th>\n",
       "      <td>49</td>\n",
       "      <td>2</td>\n",
       "      <td>33</td>\n",
       "      <td>1</td>\n",
       "      <td>2</td>\n",
       "      <td>1</td>\n",
       "      <td>2</td>\n",
       "      <td>1</td>\n",
       "      <td>2</td>\n",
       "      <td>1</td>\n",
       "      <td>...</td>\n",
       "      <td>48</td>\n",
       "      <td>77</td>\n",
       "      <td>33</td>\n",
       "      <td>1041941</td>\n",
       "      <td>449939</td>\n",
       "      <td>585688</td>\n",
       "      <td>744463</td>\n",
       "      <td>582301</td>\n",
       "      <td>10</td>\n",
       "      <td>3</td>\n",
       "    </tr>\n",
       "    <tr>\n",
       "      <th>4</th>\n",
       "      <td>59</td>\n",
       "      <td>1</td>\n",
       "      <td>32</td>\n",
       "      <td>1</td>\n",
       "      <td>1</td>\n",
       "      <td>2</td>\n",
       "      <td>1</td>\n",
       "      <td>2</td>\n",
       "      <td>2</td>\n",
       "      <td>2</td>\n",
       "      <td>...</td>\n",
       "      <td>94</td>\n",
       "      <td>90</td>\n",
       "      <td>30</td>\n",
       "      <td>660410</td>\n",
       "      <td>738756</td>\n",
       "      <td>3731527</td>\n",
       "      <td>338946</td>\n",
       "      <td>242861</td>\n",
       "      <td>11</td>\n",
       "      <td>1</td>\n",
       "    </tr>\n",
       "    <tr>\n",
       "      <th>...</th>\n",
       "      <td>...</td>\n",
       "      <td>...</td>\n",
       "      <td>...</td>\n",
       "      <td>...</td>\n",
       "      <td>...</td>\n",
       "      <td>...</td>\n",
       "      <td>...</td>\n",
       "      <td>...</td>\n",
       "      <td>...</td>\n",
       "      <td>...</td>\n",
       "      <td>...</td>\n",
       "      <td>...</td>\n",
       "      <td>...</td>\n",
       "      <td>...</td>\n",
       "      <td>...</td>\n",
       "      <td>...</td>\n",
       "      <td>...</td>\n",
       "      <td>...</td>\n",
       "      <td>...</td>\n",
       "      <td>...</td>\n",
       "      <td>...</td>\n",
       "    </tr>\n",
       "    <tr>\n",
       "      <th>1380</th>\n",
       "      <td>44</td>\n",
       "      <td>1</td>\n",
       "      <td>29</td>\n",
       "      <td>1</td>\n",
       "      <td>2</td>\n",
       "      <td>2</td>\n",
       "      <td>2</td>\n",
       "      <td>1</td>\n",
       "      <td>1</td>\n",
       "      <td>1</td>\n",
       "      <td>...</td>\n",
       "      <td>63</td>\n",
       "      <td>44</td>\n",
       "      <td>45</td>\n",
       "      <td>387795</td>\n",
       "      <td>55938</td>\n",
       "      <td>5</td>\n",
       "      <td>5</td>\n",
       "      <td>5</td>\n",
       "      <td>15</td>\n",
       "      <td>4</td>\n",
       "    </tr>\n",
       "    <tr>\n",
       "      <th>1381</th>\n",
       "      <td>55</td>\n",
       "      <td>1</td>\n",
       "      <td>34</td>\n",
       "      <td>1</td>\n",
       "      <td>2</td>\n",
       "      <td>2</td>\n",
       "      <td>1</td>\n",
       "      <td>1</td>\n",
       "      <td>1</td>\n",
       "      <td>1</td>\n",
       "      <td>...</td>\n",
       "      <td>97</td>\n",
       "      <td>64</td>\n",
       "      <td>41</td>\n",
       "      <td>481378</td>\n",
       "      <td>152961</td>\n",
       "      <td>393339</td>\n",
       "      <td>73574</td>\n",
       "      <td>236273</td>\n",
       "      <td>10</td>\n",
       "      <td>2</td>\n",
       "    </tr>\n",
       "    <tr>\n",
       "      <th>1382</th>\n",
       "      <td>42</td>\n",
       "      <td>1</td>\n",
       "      <td>26</td>\n",
       "      <td>2</td>\n",
       "      <td>2</td>\n",
       "      <td>1</td>\n",
       "      <td>1</td>\n",
       "      <td>1</td>\n",
       "      <td>2</td>\n",
       "      <td>1</td>\n",
       "      <td>...</td>\n",
       "      <td>87</td>\n",
       "      <td>39</td>\n",
       "      <td>24</td>\n",
       "      <td>612664</td>\n",
       "      <td>572756</td>\n",
       "      <td>806109</td>\n",
       "      <td>343719</td>\n",
       "      <td>160457</td>\n",
       "      <td>6</td>\n",
       "      <td>2</td>\n",
       "    </tr>\n",
       "    <tr>\n",
       "      <th>1383</th>\n",
       "      <td>52</td>\n",
       "      <td>1</td>\n",
       "      <td>29</td>\n",
       "      <td>2</td>\n",
       "      <td>1</td>\n",
       "      <td>1</td>\n",
       "      <td>2</td>\n",
       "      <td>2</td>\n",
       "      <td>2</td>\n",
       "      <td>1</td>\n",
       "      <td>...</td>\n",
       "      <td>48</td>\n",
       "      <td>81</td>\n",
       "      <td>43</td>\n",
       "      <td>139872</td>\n",
       "      <td>76161</td>\n",
       "      <td>515730</td>\n",
       "      <td>2460</td>\n",
       "      <td>696074</td>\n",
       "      <td>15</td>\n",
       "      <td>3</td>\n",
       "    </tr>\n",
       "    <tr>\n",
       "      <th>1384</th>\n",
       "      <td>55</td>\n",
       "      <td>2</td>\n",
       "      <td>26</td>\n",
       "      <td>1</td>\n",
       "      <td>2</td>\n",
       "      <td>2</td>\n",
       "      <td>2</td>\n",
       "      <td>1</td>\n",
       "      <td>2</td>\n",
       "      <td>1</td>\n",
       "      <td>...</td>\n",
       "      <td>64</td>\n",
       "      <td>71</td>\n",
       "      <td>34</td>\n",
       "      <td>1190577</td>\n",
       "      <td>628730</td>\n",
       "      <td>5</td>\n",
       "      <td>5</td>\n",
       "      <td>5</td>\n",
       "      <td>13</td>\n",
       "      <td>3</td>\n",
       "    </tr>\n",
       "  </tbody>\n",
       "</table>\n",
       "<p>1385 rows × 29 columns</p>\n",
       "</div>"
      ],
      "text/plain": [
       "      Age   Gender  BMI  Fever  Nausea/Vomting  Headache   Diarrhea   \\\n",
       "0       56       1   35      2               1          1          1   \n",
       "1       46       1   29      1               2          2          1   \n",
       "2       57       1   33      2               2          2          2   \n",
       "3       49       2   33      1               2          1          2   \n",
       "4       59       1   32      1               1          2          1   \n",
       "...    ...     ...  ...    ...             ...        ...        ...   \n",
       "1380    44       1   29      1               2          2          2   \n",
       "1381    55       1   34      1               2          2          1   \n",
       "1382    42       1   26      2               2          1          1   \n",
       "1383    52       1   29      2               1          1          2   \n",
       "1384    55       2   26      1               2          2          2   \n",
       "\n",
       "      Fatigue & generalized bone ache   Jaundice   Epigastric pain   ...  \\\n",
       "0                                    2          2                 2  ...   \n",
       "1                                    2          2                 1  ...   \n",
       "2                                    1          1                 1  ...   \n",
       "3                                    1          2                 1  ...   \n",
       "4                                    2          2                 2  ...   \n",
       "...                                ...        ...               ...  ...   \n",
       "1380                                 1          1                 1  ...   \n",
       "1381                                 1          1                 1  ...   \n",
       "1382                                 1          2                 1  ...   \n",
       "1383                                 2          2                 1  ...   \n",
       "1384                                 1          2                 1  ...   \n",
       "\n",
       "      ALT 36  ALT 48  ALT after 24 w  RNA Base   RNA 4   RNA 12  RNA EOT  \\\n",
       "0          5       5               5    655330  634536   288194        5   \n",
       "1         57     123              44     40620  538635   637056   336804   \n",
       "2          5       5               5    571148  661346        5   735945   \n",
       "3         48      77              33   1041941  449939   585688   744463   \n",
       "4         94      90              30    660410  738756  3731527   338946   \n",
       "...      ...     ...             ...       ...     ...      ...      ...   \n",
       "1380      63      44              45    387795   55938        5        5   \n",
       "1381      97      64              41    481378  152961   393339    73574   \n",
       "1382      87      39              24    612664  572756   806109   343719   \n",
       "1383      48      81              43    139872   76161   515730     2460   \n",
       "1384      64      71              34   1190577  628730        5        5   \n",
       "\n",
       "      RNA EF  Baseline histological Grading  Baselinehistological staging  \n",
       "0          5                             13                             2  \n",
       "1      31085                              4                             2  \n",
       "2     558829                              4                             4  \n",
       "3     582301                             10                             3  \n",
       "4     242861                             11                             1  \n",
       "...      ...                            ...                           ...  \n",
       "1380       5                             15                             4  \n",
       "1381  236273                             10                             2  \n",
       "1382  160457                              6                             2  \n",
       "1383  696074                             15                             3  \n",
       "1384       5                             13                             3  \n",
       "\n",
       "[1385 rows x 29 columns]"
      ]
     },
     "execution_count": 5,
     "metadata": {},
     "output_type": "execute_result"
    }
   ],
   "source": [
    "url = 'https://raw.githubusercontent.com/superbijk/midterm-miniproject/main/HCV-Egy-Data.csv'\n",
    "df = pd.read_csv(url)\n",
    "df"
   ]
  },
  {
   "cell_type": "code",
   "execution_count": 6,
   "metadata": {
    "id": "uQ9FgTTHgzTl"
   },
   "outputs": [],
   "source": [
    "categorical = ['Gender', 'Fever', 'Nausea/Vomting', 'Headache ',\n",
    "       'Diarrhea ', 'Fatigue & generalized bone ache ', 'Jaundice ',\n",
    "       'Epigastric pain ']\n",
    "numerical = ['Age ', 'BMI', 'WBC', 'RBC', 'HGB', 'Plat', 'AST 1', 'ALT 1',\n",
    "       'ALT4', 'ALT 12', 'ALT 24', 'ALT 36', 'ALT 48', 'ALT after 24 w',\n",
    "       'RNA Base', 'RNA 4', 'RNA 12', 'RNA EOT', 'RNA EF',\n",
    "       'Baseline histological Grading']"
   ]
  },
  {
   "cell_type": "code",
   "execution_count": 7,
   "metadata": {
    "colab": {
     "base_uri": "https://localhost:8080/"
    },
    "id": "zcNGXNszf19q",
    "outputId": "c23ad259-76d5-4fea-d831-c3e6b3cd1b6c"
   },
   "outputs": [
    {
     "data": {
      "text/plain": [
       "0       2\n",
       "1       2\n",
       "2       4\n",
       "3       3\n",
       "4       1\n",
       "       ..\n",
       "1380    4\n",
       "1381    2\n",
       "1382    2\n",
       "1383    3\n",
       "1384    3\n",
       "Name: Baselinehistological staging, Length: 1385, dtype: object"
      ]
     },
     "execution_count": 7,
     "metadata": {},
     "output_type": "execute_result"
    }
   ],
   "source": [
    "#split target and predictor\n",
    "y = df.iloc[:,-1].map({1:'1', 2:'2', 3:'3', 4:'4'})\n",
    "X  = df.iloc[:,:-1]\n",
    "y"
   ]
  },
  {
   "cell_type": "code",
   "execution_count": 8,
   "metadata": {
    "colab": {
     "base_uri": "https://localhost:8080/",
     "height": 490
    },
    "id": "DeiGHwE3pgmK",
    "outputId": "2e9e689d-c5b6-44a1-a103-a31973221a36"
   },
   "outputs": [
    {
     "data": {
      "text/html": [
       "<div>\n",
       "<style scoped>\n",
       "    .dataframe tbody tr th:only-of-type {\n",
       "        vertical-align: middle;\n",
       "    }\n",
       "\n",
       "    .dataframe tbody tr th {\n",
       "        vertical-align: top;\n",
       "    }\n",
       "\n",
       "    .dataframe thead th {\n",
       "        text-align: right;\n",
       "    }\n",
       "</style>\n",
       "<table border=\"1\" class=\"dataframe\">\n",
       "  <thead>\n",
       "    <tr style=\"text-align: right;\">\n",
       "      <th></th>\n",
       "      <th>Age</th>\n",
       "      <th>BMI</th>\n",
       "      <th>WBC</th>\n",
       "      <th>RBC</th>\n",
       "      <th>HGB</th>\n",
       "      <th>Plat</th>\n",
       "      <th>AST 1</th>\n",
       "      <th>ALT 1</th>\n",
       "      <th>ALT4</th>\n",
       "      <th>ALT 12</th>\n",
       "      <th>...</th>\n",
       "      <th>RNA EF</th>\n",
       "      <th>Baseline histological Grading</th>\n",
       "      <th>Gender_2</th>\n",
       "      <th>Fever_2</th>\n",
       "      <th>Nausea/Vomting_2</th>\n",
       "      <th>Headache _2</th>\n",
       "      <th>Diarrhea _2</th>\n",
       "      <th>Fatigue &amp; generalized bone ache _2</th>\n",
       "      <th>Jaundice _2</th>\n",
       "      <th>Epigastric pain _2</th>\n",
       "    </tr>\n",
       "  </thead>\n",
       "  <tbody>\n",
       "    <tr>\n",
       "      <th>0</th>\n",
       "      <td>56</td>\n",
       "      <td>35</td>\n",
       "      <td>7425</td>\n",
       "      <td>4248807</td>\n",
       "      <td>14</td>\n",
       "      <td>112132</td>\n",
       "      <td>99</td>\n",
       "      <td>84</td>\n",
       "      <td>52</td>\n",
       "      <td>109</td>\n",
       "      <td>...</td>\n",
       "      <td>5</td>\n",
       "      <td>13</td>\n",
       "      <td>0</td>\n",
       "      <td>1</td>\n",
       "      <td>0</td>\n",
       "      <td>0</td>\n",
       "      <td>0</td>\n",
       "      <td>1</td>\n",
       "      <td>1</td>\n",
       "      <td>1</td>\n",
       "    </tr>\n",
       "    <tr>\n",
       "      <th>1</th>\n",
       "      <td>46</td>\n",
       "      <td>29</td>\n",
       "      <td>12101</td>\n",
       "      <td>4429425</td>\n",
       "      <td>10</td>\n",
       "      <td>129367</td>\n",
       "      <td>91</td>\n",
       "      <td>123</td>\n",
       "      <td>95</td>\n",
       "      <td>75</td>\n",
       "      <td>...</td>\n",
       "      <td>31085</td>\n",
       "      <td>4</td>\n",
       "      <td>0</td>\n",
       "      <td>0</td>\n",
       "      <td>1</td>\n",
       "      <td>1</td>\n",
       "      <td>0</td>\n",
       "      <td>1</td>\n",
       "      <td>1</td>\n",
       "      <td>0</td>\n",
       "    </tr>\n",
       "    <tr>\n",
       "      <th>2</th>\n",
       "      <td>57</td>\n",
       "      <td>33</td>\n",
       "      <td>4178</td>\n",
       "      <td>4621191</td>\n",
       "      <td>12</td>\n",
       "      <td>151522</td>\n",
       "      <td>113</td>\n",
       "      <td>49</td>\n",
       "      <td>95</td>\n",
       "      <td>107</td>\n",
       "      <td>...</td>\n",
       "      <td>558829</td>\n",
       "      <td>4</td>\n",
       "      <td>0</td>\n",
       "      <td>1</td>\n",
       "      <td>1</td>\n",
       "      <td>1</td>\n",
       "      <td>1</td>\n",
       "      <td>0</td>\n",
       "      <td>0</td>\n",
       "      <td>0</td>\n",
       "    </tr>\n",
       "    <tr>\n",
       "      <th>3</th>\n",
       "      <td>49</td>\n",
       "      <td>33</td>\n",
       "      <td>6490</td>\n",
       "      <td>4794631</td>\n",
       "      <td>10</td>\n",
       "      <td>146457</td>\n",
       "      <td>43</td>\n",
       "      <td>64</td>\n",
       "      <td>109</td>\n",
       "      <td>80</td>\n",
       "      <td>...</td>\n",
       "      <td>582301</td>\n",
       "      <td>10</td>\n",
       "      <td>1</td>\n",
       "      <td>0</td>\n",
       "      <td>1</td>\n",
       "      <td>0</td>\n",
       "      <td>1</td>\n",
       "      <td>0</td>\n",
       "      <td>1</td>\n",
       "      <td>0</td>\n",
       "    </tr>\n",
       "    <tr>\n",
       "      <th>4</th>\n",
       "      <td>59</td>\n",
       "      <td>32</td>\n",
       "      <td>3661</td>\n",
       "      <td>4606375</td>\n",
       "      <td>11</td>\n",
       "      <td>187684</td>\n",
       "      <td>99</td>\n",
       "      <td>104</td>\n",
       "      <td>67</td>\n",
       "      <td>48</td>\n",
       "      <td>...</td>\n",
       "      <td>242861</td>\n",
       "      <td>11</td>\n",
       "      <td>0</td>\n",
       "      <td>0</td>\n",
       "      <td>0</td>\n",
       "      <td>1</td>\n",
       "      <td>0</td>\n",
       "      <td>1</td>\n",
       "      <td>1</td>\n",
       "      <td>1</td>\n",
       "    </tr>\n",
       "    <tr>\n",
       "      <th>...</th>\n",
       "      <td>...</td>\n",
       "      <td>...</td>\n",
       "      <td>...</td>\n",
       "      <td>...</td>\n",
       "      <td>...</td>\n",
       "      <td>...</td>\n",
       "      <td>...</td>\n",
       "      <td>...</td>\n",
       "      <td>...</td>\n",
       "      <td>...</td>\n",
       "      <td>...</td>\n",
       "      <td>...</td>\n",
       "      <td>...</td>\n",
       "      <td>...</td>\n",
       "      <td>...</td>\n",
       "      <td>...</td>\n",
       "      <td>...</td>\n",
       "      <td>...</td>\n",
       "      <td>...</td>\n",
       "      <td>...</td>\n",
       "      <td>...</td>\n",
       "    </tr>\n",
       "    <tr>\n",
       "      <th>1380</th>\n",
       "      <td>44</td>\n",
       "      <td>29</td>\n",
       "      <td>7044</td>\n",
       "      <td>4957174</td>\n",
       "      <td>15</td>\n",
       "      <td>202520</td>\n",
       "      <td>122</td>\n",
       "      <td>59</td>\n",
       "      <td>78</td>\n",
       "      <td>106</td>\n",
       "      <td>...</td>\n",
       "      <td>5</td>\n",
       "      <td>15</td>\n",
       "      <td>0</td>\n",
       "      <td>0</td>\n",
       "      <td>1</td>\n",
       "      <td>1</td>\n",
       "      <td>1</td>\n",
       "      <td>0</td>\n",
       "      <td>0</td>\n",
       "      <td>0</td>\n",
       "    </tr>\n",
       "    <tr>\n",
       "      <th>1381</th>\n",
       "      <td>55</td>\n",
       "      <td>34</td>\n",
       "      <td>6207</td>\n",
       "      <td>4636951</td>\n",
       "      <td>10</td>\n",
       "      <td>115776</td>\n",
       "      <td>128</td>\n",
       "      <td>102</td>\n",
       "      <td>65</td>\n",
       "      <td>99</td>\n",
       "      <td>...</td>\n",
       "      <td>236273</td>\n",
       "      <td>10</td>\n",
       "      <td>0</td>\n",
       "      <td>0</td>\n",
       "      <td>1</td>\n",
       "      <td>1</td>\n",
       "      <td>0</td>\n",
       "      <td>0</td>\n",
       "      <td>0</td>\n",
       "      <td>0</td>\n",
       "    </tr>\n",
       "    <tr>\n",
       "      <th>1382</th>\n",
       "      <td>42</td>\n",
       "      <td>26</td>\n",
       "      <td>4913</td>\n",
       "      <td>4122038</td>\n",
       "      <td>14</td>\n",
       "      <td>128354</td>\n",
       "      <td>61</td>\n",
       "      <td>93</td>\n",
       "      <td>123</td>\n",
       "      <td>61</td>\n",
       "      <td>...</td>\n",
       "      <td>160457</td>\n",
       "      <td>6</td>\n",
       "      <td>0</td>\n",
       "      <td>1</td>\n",
       "      <td>1</td>\n",
       "      <td>0</td>\n",
       "      <td>0</td>\n",
       "      <td>0</td>\n",
       "      <td>1</td>\n",
       "      <td>0</td>\n",
       "    </tr>\n",
       "    <tr>\n",
       "      <th>1383</th>\n",
       "      <td>52</td>\n",
       "      <td>29</td>\n",
       "      <td>7257</td>\n",
       "      <td>4241990</td>\n",
       "      <td>10</td>\n",
       "      <td>205908</td>\n",
       "      <td>70</td>\n",
       "      <td>97</td>\n",
       "      <td>104</td>\n",
       "      <td>74</td>\n",
       "      <td>...</td>\n",
       "      <td>696074</td>\n",
       "      <td>15</td>\n",
       "      <td>0</td>\n",
       "      <td>1</td>\n",
       "      <td>0</td>\n",
       "      <td>0</td>\n",
       "      <td>1</td>\n",
       "      <td>1</td>\n",
       "      <td>1</td>\n",
       "      <td>0</td>\n",
       "    </tr>\n",
       "    <tr>\n",
       "      <th>1384</th>\n",
       "      <td>55</td>\n",
       "      <td>26</td>\n",
       "      <td>11832</td>\n",
       "      <td>4059176</td>\n",
       "      <td>14</td>\n",
       "      <td>136615</td>\n",
       "      <td>51</td>\n",
       "      <td>126</td>\n",
       "      <td>39</td>\n",
       "      <td>68</td>\n",
       "      <td>...</td>\n",
       "      <td>5</td>\n",
       "      <td>13</td>\n",
       "      <td>1</td>\n",
       "      <td>0</td>\n",
       "      <td>1</td>\n",
       "      <td>1</td>\n",
       "      <td>1</td>\n",
       "      <td>0</td>\n",
       "      <td>1</td>\n",
       "      <td>0</td>\n",
       "    </tr>\n",
       "  </tbody>\n",
       "</table>\n",
       "<p>1385 rows × 28 columns</p>\n",
       "</div>"
      ],
      "text/plain": [
       "      Age   BMI    WBC      RBC  HGB    Plat  AST 1  ALT 1  ALT4  ALT 12  ...  \\\n",
       "0       56   35   7425  4248807   14  112132     99     84    52     109  ...   \n",
       "1       46   29  12101  4429425   10  129367     91    123    95      75  ...   \n",
       "2       57   33   4178  4621191   12  151522    113     49    95     107  ...   \n",
       "3       49   33   6490  4794631   10  146457     43     64   109      80  ...   \n",
       "4       59   32   3661  4606375   11  187684     99    104    67      48  ...   \n",
       "...    ...  ...    ...      ...  ...     ...    ...    ...   ...     ...  ...   \n",
       "1380    44   29   7044  4957174   15  202520    122     59    78     106  ...   \n",
       "1381    55   34   6207  4636951   10  115776    128    102    65      99  ...   \n",
       "1382    42   26   4913  4122038   14  128354     61     93   123      61  ...   \n",
       "1383    52   29   7257  4241990   10  205908     70     97   104      74  ...   \n",
       "1384    55   26  11832  4059176   14  136615     51    126    39      68  ...   \n",
       "\n",
       "      RNA EF  Baseline histological Grading  Gender_2  Fever_2  \\\n",
       "0          5                             13         0        1   \n",
       "1      31085                              4         0        0   \n",
       "2     558829                              4         0        1   \n",
       "3     582301                             10         1        0   \n",
       "4     242861                             11         0        0   \n",
       "...      ...                            ...       ...      ...   \n",
       "1380       5                             15         0        0   \n",
       "1381  236273                             10         0        0   \n",
       "1382  160457                              6         0        1   \n",
       "1383  696074                             15         0        1   \n",
       "1384       5                             13         1        0   \n",
       "\n",
       "      Nausea/Vomting_2  Headache _2  Diarrhea _2  \\\n",
       "0                    0            0            0   \n",
       "1                    1            1            0   \n",
       "2                    1            1            1   \n",
       "3                    1            0            1   \n",
       "4                    0            1            0   \n",
       "...                ...          ...          ...   \n",
       "1380                 1            1            1   \n",
       "1381                 1            1            0   \n",
       "1382                 1            0            0   \n",
       "1383                 0            0            1   \n",
       "1384                 1            1            1   \n",
       "\n",
       "      Fatigue & generalized bone ache _2  Jaundice _2  Epigastric pain _2  \n",
       "0                                      1            1                   1  \n",
       "1                                      1            1                   0  \n",
       "2                                      0            0                   0  \n",
       "3                                      0            1                   0  \n",
       "4                                      1            1                   1  \n",
       "...                                  ...          ...                 ...  \n",
       "1380                                   0            0                   0  \n",
       "1381                                   0            0                   0  \n",
       "1382                                   0            1                   0  \n",
       "1383                                   1            1                   0  \n",
       "1384                                   0            1                   0  \n",
       "\n",
       "[1385 rows x 28 columns]"
      ]
     },
     "execution_count": 8,
     "metadata": {},
     "output_type": "execute_result"
    }
   ],
   "source": [
    "# Onehot\n",
    "dum_df = pd.get_dummies(X, columns=categorical, drop_first=True)\n",
    "dum_df"
   ]
  },
  {
   "cell_type": "code",
   "execution_count": 9,
   "metadata": {
    "id": "auI1H4UpsOHM"
   },
   "outputs": [],
   "source": [
    "# test train split\n",
    "from sklearn.model_selection import train_test_split\n",
    "\n",
    "X_train, X_test, y_train, y_test = train_test_split(dum_df, y, test_size=0.3, random_state=42)"
   ]
  },
  {
   "cell_type": "code",
   "execution_count": 10,
   "metadata": {
    "colab": {
     "base_uri": "https://localhost:8080/"
    },
    "id": "EXjWWrm-tBSj",
    "outputId": "305aefff-0778-450a-88e6-42f68c410561"
   },
   "outputs": [
    {
     "name": "stdout",
     "output_type": "stream",
     "text": [
      "X_train shape (969, 28)\n",
      "X_test shape (416, 28)\n",
      "y_train shape (969,)\n",
      "y_test shape (416,)\n"
     ]
    }
   ],
   "source": [
    "print('X_train shape', X_train.shape); print('X_test shape', X_test.shape); print('y_train shape', y_train.shape); print('y_test shape', y_test.shape)"
   ]
  },
  {
   "cell_type": "code",
   "execution_count": 11,
   "metadata": {
    "colab": {
     "base_uri": "https://localhost:8080/"
    },
    "id": "AKpmfAkBg7Yu",
    "outputId": "22212631-2312-4651-f428-d8f67c6a2719"
   },
   "outputs": [
    {
     "name": "stderr",
     "output_type": "stream",
     "text": [
      "/Users/fame/opt/anaconda3/lib/python3.8/site-packages/pandas/core/indexing.py:966: SettingWithCopyWarning: \n",
      "A value is trying to be set on a copy of a slice from a DataFrame.\n",
      "Try using .loc[row_indexer,col_indexer] = value instead\n",
      "\n",
      "See the caveats in the documentation: https://pandas.pydata.org/pandas-docs/stable/user_guide/indexing.html#returning-a-view-versus-a-copy\n",
      "  self.obj[item] = s\n",
      "/Users/fame/opt/anaconda3/lib/python3.8/site-packages/pandas/core/indexing.py:966: SettingWithCopyWarning: \n",
      "A value is trying to be set on a copy of a slice from a DataFrame.\n",
      "Try using .loc[row_indexer,col_indexer] = value instead\n",
      "\n",
      "See the caveats in the documentation: https://pandas.pydata.org/pandas-docs/stable/user_guide/indexing.html#returning-a-view-versus-a-copy\n",
      "  self.obj[item] = s\n"
     ]
    }
   ],
   "source": [
    "# scaling train and test set\n",
    "from sklearn.preprocessing import StandardScaler\n",
    "scaler = StandardScaler()\n",
    "scaler.fit(X_train.loc[:, numerical])\n",
    "X_train.loc[:, numerical] = scaler.transform(X_train.loc[:, numerical])\n",
    "X_test.loc[:, numerical] = scaler.transform(X_test.loc[:, numerical])"
   ]
  },
  {
   "cell_type": "code",
   "execution_count": 12,
   "metadata": {
    "colab": {
     "base_uri": "https://localhost:8080/",
     "height": 490
    },
    "id": "AU1TRsV8hu4v",
    "outputId": "f8482fd6-3ea8-4ebf-b69f-3f07d7e16619"
   },
   "outputs": [
    {
     "data": {
      "text/html": [
       "<div>\n",
       "<style scoped>\n",
       "    .dataframe tbody tr th:only-of-type {\n",
       "        vertical-align: middle;\n",
       "    }\n",
       "\n",
       "    .dataframe tbody tr th {\n",
       "        vertical-align: top;\n",
       "    }\n",
       "\n",
       "    .dataframe thead th {\n",
       "        text-align: right;\n",
       "    }\n",
       "</style>\n",
       "<table border=\"1\" class=\"dataframe\">\n",
       "  <thead>\n",
       "    <tr style=\"text-align: right;\">\n",
       "      <th></th>\n",
       "      <th>Age</th>\n",
       "      <th>BMI</th>\n",
       "      <th>WBC</th>\n",
       "      <th>RBC</th>\n",
       "      <th>HGB</th>\n",
       "      <th>Plat</th>\n",
       "      <th>AST 1</th>\n",
       "      <th>ALT 1</th>\n",
       "      <th>ALT4</th>\n",
       "      <th>ALT 12</th>\n",
       "      <th>...</th>\n",
       "      <th>RNA EF</th>\n",
       "      <th>Baseline histological Grading</th>\n",
       "      <th>Gender_2</th>\n",
       "      <th>Fever_2</th>\n",
       "      <th>Nausea/Vomting_2</th>\n",
       "      <th>Headache _2</th>\n",
       "      <th>Diarrhea _2</th>\n",
       "      <th>Fatigue &amp; generalized bone ache _2</th>\n",
       "      <th>Jaundice _2</th>\n",
       "      <th>Epigastric pain _2</th>\n",
       "    </tr>\n",
       "  </thead>\n",
       "  <tbody>\n",
       "    <tr>\n",
       "      <th>772</th>\n",
       "      <td>-0.396665</td>\n",
       "      <td>-0.377029</td>\n",
       "      <td>-0.894260</td>\n",
       "      <td>-0.643724</td>\n",
       "      <td>-0.914104</td>\n",
       "      <td>-1.126196</td>\n",
       "      <td>1.528497</td>\n",
       "      <td>0.075644</td>\n",
       "      <td>1.680174</td>\n",
       "      <td>-1.180579</td>\n",
       "      <td>...</td>\n",
       "      <td>0.284216</td>\n",
       "      <td>-0.940797</td>\n",
       "      <td>1</td>\n",
       "      <td>1</td>\n",
       "      <td>1</td>\n",
       "      <td>0</td>\n",
       "      <td>0</td>\n",
       "      <td>1</td>\n",
       "      <td>0</td>\n",
       "      <td>0</td>\n",
       "    </tr>\n",
       "    <tr>\n",
       "      <th>266</th>\n",
       "      <td>-0.511230</td>\n",
       "      <td>-0.377029</td>\n",
       "      <td>1.131638</td>\n",
       "      <td>-1.268318</td>\n",
       "      <td>-0.914104</td>\n",
       "      <td>0.656375</td>\n",
       "      <td>0.493236</td>\n",
       "      <td>-0.623553</td>\n",
       "      <td>-0.856379</td>\n",
       "      <td>1.221380</td>\n",
       "      <td>...</td>\n",
       "      <td>-0.790113</td>\n",
       "      <td>0.061547</td>\n",
       "      <td>1</td>\n",
       "      <td>0</td>\n",
       "      <td>1</td>\n",
       "      <td>1</td>\n",
       "      <td>1</td>\n",
       "      <td>1</td>\n",
       "      <td>1</td>\n",
       "      <td>0</td>\n",
       "    </tr>\n",
       "    <tr>\n",
       "      <th>327</th>\n",
       "      <td>1.321821</td>\n",
       "      <td>0.609712</td>\n",
       "      <td>0.039846</td>\n",
       "      <td>0.972407</td>\n",
       "      <td>1.419933</td>\n",
       "      <td>1.645320</td>\n",
       "      <td>1.145067</td>\n",
       "      <td>-0.312799</td>\n",
       "      <td>-1.613559</td>\n",
       "      <td>0.840117</td>\n",
       "      <td>...</td>\n",
       "      <td>-0.777382</td>\n",
       "      <td>-1.692556</td>\n",
       "      <td>1</td>\n",
       "      <td>1</td>\n",
       "      <td>1</td>\n",
       "      <td>1</td>\n",
       "      <td>0</td>\n",
       "      <td>0</td>\n",
       "      <td>1</td>\n",
       "      <td>1</td>\n",
       "    </tr>\n",
       "    <tr>\n",
       "      <th>348</th>\n",
       "      <td>0.290730</td>\n",
       "      <td>1.103082</td>\n",
       "      <td>1.231506</td>\n",
       "      <td>-0.549407</td>\n",
       "      <td>0.836423</td>\n",
       "      <td>-1.377320</td>\n",
       "      <td>-1.193857</td>\n",
       "      <td>-0.002044</td>\n",
       "      <td>0.052237</td>\n",
       "      <td>1.183254</td>\n",
       "      <td>...</td>\n",
       "      <td>1.886278</td>\n",
       "      <td>1.314479</td>\n",
       "      <td>0</td>\n",
       "      <td>0</td>\n",
       "      <td>0</td>\n",
       "      <td>0</td>\n",
       "      <td>0</td>\n",
       "      <td>0</td>\n",
       "      <td>0</td>\n",
       "      <td>1</td>\n",
       "    </tr>\n",
       "    <tr>\n",
       "      <th>423</th>\n",
       "      <td>0.863558</td>\n",
       "      <td>-0.130343</td>\n",
       "      <td>-1.353803</td>\n",
       "      <td>1.109614</td>\n",
       "      <td>0.836423</td>\n",
       "      <td>1.335193</td>\n",
       "      <td>-0.120252</td>\n",
       "      <td>1.435195</td>\n",
       "      <td>0.241532</td>\n",
       "      <td>-1.333084</td>\n",
       "      <td>...</td>\n",
       "      <td>-0.680275</td>\n",
       "      <td>0.061547</td>\n",
       "      <td>1</td>\n",
       "      <td>0</td>\n",
       "      <td>1</td>\n",
       "      <td>0</td>\n",
       "      <td>1</td>\n",
       "      <td>0</td>\n",
       "      <td>0</td>\n",
       "      <td>0</td>\n",
       "    </tr>\n",
       "    <tr>\n",
       "      <th>...</th>\n",
       "      <td>...</td>\n",
       "      <td>...</td>\n",
       "      <td>...</td>\n",
       "      <td>...</td>\n",
       "      <td>...</td>\n",
       "      <td>...</td>\n",
       "      <td>...</td>\n",
       "      <td>...</td>\n",
       "      <td>...</td>\n",
       "      <td>...</td>\n",
       "      <td>...</td>\n",
       "      <td>...</td>\n",
       "      <td>...</td>\n",
       "      <td>...</td>\n",
       "      <td>...</td>\n",
       "      <td>...</td>\n",
       "      <td>...</td>\n",
       "      <td>...</td>\n",
       "      <td>...</td>\n",
       "      <td>...</td>\n",
       "      <td>...</td>\n",
       "    </tr>\n",
       "    <tr>\n",
       "      <th>1095</th>\n",
       "      <td>1.665518</td>\n",
       "      <td>-1.610454</td>\n",
       "      <td>-0.624315</td>\n",
       "      <td>0.096691</td>\n",
       "      <td>-0.330595</td>\n",
       "      <td>-0.652418</td>\n",
       "      <td>0.569922</td>\n",
       "      <td>-0.584709</td>\n",
       "      <td>-0.477789</td>\n",
       "      <td>-1.333084</td>\n",
       "      <td>...</td>\n",
       "      <td>-0.440468</td>\n",
       "      <td>0.562720</td>\n",
       "      <td>1</td>\n",
       "      <td>1</td>\n",
       "      <td>0</td>\n",
       "      <td>0</td>\n",
       "      <td>0</td>\n",
       "      <td>1</td>\n",
       "      <td>0</td>\n",
       "      <td>0</td>\n",
       "    </tr>\n",
       "    <tr>\n",
       "      <th>1130</th>\n",
       "      <td>-0.511230</td>\n",
       "      <td>0.856397</td>\n",
       "      <td>1.516468</td>\n",
       "      <td>1.446673</td>\n",
       "      <td>-0.914104</td>\n",
       "      <td>-0.202959</td>\n",
       "      <td>1.758555</td>\n",
       "      <td>1.551728</td>\n",
       "      <td>-0.477789</td>\n",
       "      <td>-0.341799</td>\n",
       "      <td>...</td>\n",
       "      <td>1.709784</td>\n",
       "      <td>-0.439625</td>\n",
       "      <td>1</td>\n",
       "      <td>1</td>\n",
       "      <td>0</td>\n",
       "      <td>0</td>\n",
       "      <td>1</td>\n",
       "      <td>1</td>\n",
       "      <td>1</td>\n",
       "      <td>0</td>\n",
       "    </tr>\n",
       "    <tr>\n",
       "      <th>1294</th>\n",
       "      <td>-0.511230</td>\n",
       "      <td>-0.130343</td>\n",
       "      <td>0.602637</td>\n",
       "      <td>-1.330290</td>\n",
       "      <td>-1.497614</td>\n",
       "      <td>-0.373676</td>\n",
       "      <td>0.339864</td>\n",
       "      <td>-1.283906</td>\n",
       "      <td>0.430827</td>\n",
       "      <td>-0.379926</td>\n",
       "      <td>...</td>\n",
       "      <td>-1.090612</td>\n",
       "      <td>-0.189039</td>\n",
       "      <td>0</td>\n",
       "      <td>1</td>\n",
       "      <td>1</td>\n",
       "      <td>1</td>\n",
       "      <td>0</td>\n",
       "      <td>0</td>\n",
       "      <td>1</td>\n",
       "      <td>1</td>\n",
       "    </tr>\n",
       "    <tr>\n",
       "      <th>860</th>\n",
       "      <td>0.634427</td>\n",
       "      <td>-0.130343</td>\n",
       "      <td>0.295148</td>\n",
       "      <td>0.961420</td>\n",
       "      <td>-0.330595</td>\n",
       "      <td>1.760670</td>\n",
       "      <td>0.148149</td>\n",
       "      <td>-1.478128</td>\n",
       "      <td>0.468686</td>\n",
       "      <td>-0.036789</td>\n",
       "      <td>...</td>\n",
       "      <td>-1.090612</td>\n",
       "      <td>1.063892</td>\n",
       "      <td>1</td>\n",
       "      <td>1</td>\n",
       "      <td>1</td>\n",
       "      <td>1</td>\n",
       "      <td>0</td>\n",
       "      <td>1</td>\n",
       "      <td>0</td>\n",
       "      <td>1</td>\n",
       "    </tr>\n",
       "    <tr>\n",
       "      <th>1126</th>\n",
       "      <td>0.519861</td>\n",
       "      <td>1.596453</td>\n",
       "      <td>1.266047</td>\n",
       "      <td>1.109684</td>\n",
       "      <td>1.419933</td>\n",
       "      <td>-0.942766</td>\n",
       "      <td>0.684951</td>\n",
       "      <td>-0.040889</td>\n",
       "      <td>0.052237</td>\n",
       "      <td>0.725738</td>\n",
       "      <td>...</td>\n",
       "      <td>0.813795</td>\n",
       "      <td>-0.940797</td>\n",
       "      <td>0</td>\n",
       "      <td>1</td>\n",
       "      <td>0</td>\n",
       "      <td>1</td>\n",
       "      <td>0</td>\n",
       "      <td>1</td>\n",
       "      <td>0</td>\n",
       "      <td>0</td>\n",
       "    </tr>\n",
       "  </tbody>\n",
       "</table>\n",
       "<p>969 rows × 28 columns</p>\n",
       "</div>"
      ],
      "text/plain": [
       "          Age        BMI       WBC       RBC       HGB      Plat     AST 1  \\\n",
       "772  -0.396665 -0.377029 -0.894260 -0.643724 -0.914104 -1.126196  1.528497   \n",
       "266  -0.511230 -0.377029  1.131638 -1.268318 -0.914104  0.656375  0.493236   \n",
       "327   1.321821  0.609712  0.039846  0.972407  1.419933  1.645320  1.145067   \n",
       "348   0.290730  1.103082  1.231506 -0.549407  0.836423 -1.377320 -1.193857   \n",
       "423   0.863558 -0.130343 -1.353803  1.109614  0.836423  1.335193 -0.120252   \n",
       "...        ...       ...       ...       ...       ...       ...       ...   \n",
       "1095  1.665518 -1.610454 -0.624315  0.096691 -0.330595 -0.652418  0.569922   \n",
       "1130 -0.511230  0.856397  1.516468  1.446673 -0.914104 -0.202959  1.758555   \n",
       "1294 -0.511230 -0.130343  0.602637 -1.330290 -1.497614 -0.373676  0.339864   \n",
       "860   0.634427 -0.130343  0.295148  0.961420 -0.330595  1.760670  0.148149   \n",
       "1126  0.519861  1.596453  1.266047  1.109684  1.419933 -0.942766  0.684951   \n",
       "\n",
       "         ALT 1      ALT4    ALT 12  ...    RNA EF  \\\n",
       "772   0.075644  1.680174 -1.180579  ...  0.284216   \n",
       "266  -0.623553 -0.856379  1.221380  ... -0.790113   \n",
       "327  -0.312799 -1.613559  0.840117  ... -0.777382   \n",
       "348  -0.002044  0.052237  1.183254  ...  1.886278   \n",
       "423   1.435195  0.241532 -1.333084  ... -0.680275   \n",
       "...        ...       ...       ...  ...       ...   \n",
       "1095 -0.584709 -0.477789 -1.333084  ... -0.440468   \n",
       "1130  1.551728 -0.477789 -0.341799  ...  1.709784   \n",
       "1294 -1.283906  0.430827 -0.379926  ... -1.090612   \n",
       "860  -1.478128  0.468686 -0.036789  ... -1.090612   \n",
       "1126 -0.040889  0.052237  0.725738  ...  0.813795   \n",
       "\n",
       "      Baseline histological Grading  Gender_2  Fever_2  Nausea/Vomting_2  \\\n",
       "772                       -0.940797         1        1                 1   \n",
       "266                        0.061547         1        0                 1   \n",
       "327                       -1.692556         1        1                 1   \n",
       "348                        1.314479         0        0                 0   \n",
       "423                        0.061547         1        0                 1   \n",
       "...                             ...       ...      ...               ...   \n",
       "1095                       0.562720         1        1                 0   \n",
       "1130                      -0.439625         1        1                 0   \n",
       "1294                      -0.189039         0        1                 1   \n",
       "860                        1.063892         1        1                 1   \n",
       "1126                      -0.940797         0        1                 0   \n",
       "\n",
       "      Headache _2  Diarrhea _2  Fatigue & generalized bone ache _2  \\\n",
       "772             0            0                                   1   \n",
       "266             1            1                                   1   \n",
       "327             1            0                                   0   \n",
       "348             0            0                                   0   \n",
       "423             0            1                                   0   \n",
       "...           ...          ...                                 ...   \n",
       "1095            0            0                                   1   \n",
       "1130            0            1                                   1   \n",
       "1294            1            0                                   0   \n",
       "860             1            0                                   1   \n",
       "1126            1            0                                   1   \n",
       "\n",
       "      Jaundice _2  Epigastric pain _2  \n",
       "772             0                   0  \n",
       "266             1                   0  \n",
       "327             1                   1  \n",
       "348             0                   1  \n",
       "423             0                   0  \n",
       "...           ...                 ...  \n",
       "1095            0                   0  \n",
       "1130            1                   0  \n",
       "1294            1                   1  \n",
       "860             0                   1  \n",
       "1126            0                   0  \n",
       "\n",
       "[969 rows x 28 columns]"
      ]
     },
     "execution_count": 12,
     "metadata": {},
     "output_type": "execute_result"
    }
   ],
   "source": [
    "X_train"
   ]
  },
  {
   "cell_type": "code",
   "execution_count": 13,
   "metadata": {
    "id": "064f-8zIkYpk"
   },
   "outputs": [],
   "source": [
    "from sklearn.model_selection import cross_val_score\n",
    "from sklearn.naive_bayes import GaussianNB\n",
    "from sklearn.linear_model import LogisticRegression\n",
    "from sklearn import tree\n",
    "from sklearn.neighbors import KNeighborsClassifier\n",
    "from sklearn.ensemble import RandomForestClassifier\n",
    "from sklearn.svm import SVC"
   ]
  },
  {
   "cell_type": "code",
   "execution_count": 14,
   "metadata": {
    "id": "0diP-AtUzcEJ"
   },
   "outputs": [],
   "source": [
    "score = []"
   ]
  },
  {
   "cell_type": "code",
   "execution_count": 15,
   "metadata": {
    "colab": {
     "base_uri": "https://localhost:8080/",
     "height": 37
    },
    "id": "rO8gEs9e0L07",
    "outputId": "d4e9ca93-fab3-40f7-a8d8-d51ed5508c37"
   },
   "outputs": [
    {
     "data": {
      "text/plain": [
       "'from sklearn.model_selection import cross_val_predict\\ngnb = GaussianNB()\\ny_pred = cross_val_predict(gnb, X_train,y_train, cv=3)\\n'"
      ]
     },
     "execution_count": 15,
     "metadata": {},
     "output_type": "execute_result"
    }
   ],
   "source": [
    "# ลอง predict \n",
    "'''from sklearn.model_selection import cross_val_predict\n",
    "gnb = GaussianNB()\n",
    "y_pred = cross_val_predict(gnb, X_train,y_train, cv=3)\n",
    "'''"
   ]
  },
  {
   "cell_type": "code",
   "execution_count": 16,
   "metadata": {
    "colab": {
     "base_uri": "https://localhost:8080/"
    },
    "id": "IV8NDpYwnEPP",
    "outputId": "d526db3b-0d4f-405f-c8e8-d06b572381e0"
   },
   "outputs": [
    {
     "name": "stdout",
     "output_type": "stream",
     "text": [
      "[0.22164948 0.23195876 0.24742268 0.21134021 0.24870466]\n",
      "0.23221515944661072\n"
     ]
    }
   ],
   "source": [
    "gnb = GaussianNB()\n",
    "cv = cross_val_score(gnb,X_train,y_train,cv=5)\n",
    "print(cv)\n",
    "print(cv.mean())\n",
    "score.append(cv.mean().round(3))"
   ]
  },
  {
   "cell_type": "code",
   "execution_count": 17,
   "metadata": {
    "colab": {
     "base_uri": "https://localhost:8080/"
    },
    "id": "n4r7ih6cnHoY",
    "outputId": "58f008e2-285a-4f73-cf3e-1d6cdc75e957"
   },
   "outputs": [
    {
     "name": "stdout",
     "output_type": "stream",
     "text": [
      "[0.24742268 0.23195876 0.2371134  0.2371134  0.26943005]\n",
      "0.24460765984723037\n"
     ]
    }
   ],
   "source": [
    "dt = tree.DecisionTreeClassifier(random_state = 1)\n",
    "cv = cross_val_score(dt,X_train,y_train,cv=5)\n",
    "print(cv)\n",
    "print(cv.mean())\n",
    "score.append(cv.mean().round(3))"
   ]
  },
  {
   "cell_type": "code",
   "execution_count": 18,
   "metadata": {
    "colab": {
     "base_uri": "https://localhost:8080/"
    },
    "id": "2Sadc7Qwn5I8",
    "outputId": "8f83513f-d269-4e57-c8a8-8c9f7d74299b"
   },
   "outputs": [
    {
     "name": "stdout",
     "output_type": "stream",
     "text": [
      "[0.21134021 0.22164948 0.24742268 0.2371134  0.24870466]\n",
      "0.23324608728166232\n"
     ]
    }
   ],
   "source": [
    "knn = KNeighborsClassifier()\n",
    "cv = cross_val_score(knn,X_train,y_train,cv=5)\n",
    "print(cv)\n",
    "print(cv.mean())\n",
    "score.append(cv.mean().round(3))"
   ]
  },
  {
   "cell_type": "code",
   "execution_count": 19,
   "metadata": {
    "colab": {
     "base_uri": "https://localhost:8080/"
    },
    "id": "1prbiuISx2Si",
    "outputId": "9a630c6a-1175-48d1-d227-f8543c60e002"
   },
   "outputs": [
    {
     "name": "stdout",
     "output_type": "stream",
     "text": [
      "[0.24742268 0.22164948 0.23195876 0.2371134  0.19689119]\n",
      "0.22700710432135035\n"
     ]
    }
   ],
   "source": [
    "rf = RandomForestClassifier(random_state = 1)\n",
    "cv = cross_val_score(rf,X_train,y_train,cv=5)\n",
    "print(cv)\n",
    "print(cv.mean())\n",
    "score.append(cv.mean().round(3))"
   ]
  },
  {
   "cell_type": "code",
   "execution_count": 20,
   "metadata": {
    "colab": {
     "base_uri": "https://localhost:8080/"
    },
    "id": "XTjdICylx8PQ",
    "outputId": "e114aef9-489a-48dd-f492-455e8d0d7728"
   },
   "outputs": [
    {
     "name": "stdout",
     "output_type": "stream",
     "text": [
      "[0.25773196 0.24742268 0.24742268 0.20618557 0.19689119]\n",
      "0.23113081566155652\n"
     ]
    }
   ],
   "source": [
    "svc = SVC(probability = True)\n",
    "cv = cross_val_score(svc,X_train,y_train,cv=5)\n",
    "print(cv)\n",
    "print(cv.mean())\n",
    "score.append(cv.mean().round(3))"
   ]
  },
  {
   "cell_type": "code",
   "execution_count": 21,
   "metadata": {
    "colab": {
     "base_uri": "https://localhost:8080/"
    },
    "id": "BGpqpTgZyNmB",
    "outputId": "0dddc606-fd2a-4901-a2d7-bcbac1a9137c"
   },
   "outputs": [
    {
     "name": "stdout",
     "output_type": "stream",
     "text": [
      "[0.28350515 0.18556701 0.22680412 0.20103093 0.19170984]\n",
      "0.21772341221088615\n"
     ]
    }
   ],
   "source": [
    "from xgboost import XGBClassifier\n",
    "xgb = XGBClassifier(random_state =1)\n",
    "cv = cross_val_score(xgb,X_train,y_train,cv=5)\n",
    "print(cv)\n",
    "print(cv.mean())\n",
    "score.append(cv.mean().round(3))"
   ]
  },
  {
   "cell_type": "code",
   "execution_count": 22,
   "metadata": {
    "colab": {
     "base_uri": "https://localhost:8080/",
     "height": 235
    },
    "id": "GgCZsio1z8b1",
    "outputId": "9ea1d12c-b545-48da-b4cb-9b8fed6005ca"
   },
   "outputs": [
    {
     "data": {
      "text/html": [
       "<div>\n",
       "<style scoped>\n",
       "    .dataframe tbody tr th:only-of-type {\n",
       "        vertical-align: middle;\n",
       "    }\n",
       "\n",
       "    .dataframe tbody tr th {\n",
       "        vertical-align: top;\n",
       "    }\n",
       "\n",
       "    .dataframe thead th {\n",
       "        text-align: right;\n",
       "    }\n",
       "</style>\n",
       "<table border=\"1\" class=\"dataframe\">\n",
       "  <thead>\n",
       "    <tr style=\"text-align: right;\">\n",
       "      <th></th>\n",
       "      <th>Model</th>\n",
       "      <th>Base line</th>\n",
       "    </tr>\n",
       "  </thead>\n",
       "  <tbody>\n",
       "    <tr>\n",
       "      <th>0</th>\n",
       "      <td>Naive Bayes</td>\n",
       "      <td>0.232</td>\n",
       "    </tr>\n",
       "    <tr>\n",
       "      <th>1</th>\n",
       "      <td>Decision Tree</td>\n",
       "      <td>0.245</td>\n",
       "    </tr>\n",
       "    <tr>\n",
       "      <th>2</th>\n",
       "      <td>KNN</td>\n",
       "      <td>0.233</td>\n",
       "    </tr>\n",
       "    <tr>\n",
       "      <th>3</th>\n",
       "      <td>Random Forest</td>\n",
       "      <td>0.227</td>\n",
       "    </tr>\n",
       "    <tr>\n",
       "      <th>4</th>\n",
       "      <td>Support Vector Classifier</td>\n",
       "      <td>0.231</td>\n",
       "    </tr>\n",
       "    <tr>\n",
       "      <th>5</th>\n",
       "      <td>Xtreme Gradient Boosting</td>\n",
       "      <td>0.218</td>\n",
       "    </tr>\n",
       "  </tbody>\n",
       "</table>\n",
       "</div>"
      ],
      "text/plain": [
       "                       Model  Base line\n",
       "0                Naive Bayes      0.232\n",
       "1              Decision Tree      0.245\n",
       "2                        KNN      0.233\n",
       "3              Random Forest      0.227\n",
       "4  Support Vector Classifier      0.231\n",
       "5   Xtreme Gradient Boosting      0.218"
      ]
     },
     "execution_count": 22,
     "metadata": {},
     "output_type": "execute_result"
    }
   ],
   "source": [
    "name =[ 'Naive Bayes','Decision Tree','KNN','Random Forest','Support Vector Classifier','Xtreme Gradient Boosting']\n",
    "report = pd.DataFrame({'Model':name, 'Base line': score})\n",
    "report"
   ]
  },
  {
   "cell_type": "code",
   "execution_count": 23,
   "metadata": {
    "id": "RPOp0Rhmymzy"
   },
   "outputs": [],
   "source": [
    "from sklearn.model_selection import GridSearchCV \n",
    "from sklearn.model_selection import RandomizedSearchCV \n",
    "\n",
    "#create report\n",
    "def clf_performance(classifier, model_name):\n",
    "    print(model_name)\n",
    "    print('Best Score: ' + str(classifier.best_score_))\n",
    "    print('Best Parameters: ' + str(classifier.best_params_))"
   ]
  },
  {
   "cell_type": "code",
   "execution_count": 32,
   "metadata": {
    "colab": {
     "base_uri": "https://localhost:8080/",
     "height": 409
    },
    "id": "Qxp3vcV042UE",
    "outputId": "334b17ab-4d01-4dcb-8fc3-30de7a97cea0"
   },
   "outputs": [
    {
     "name": "stdout",
     "output_type": "stream",
     "text": [
      "Fitting 3 folds for each of 55 candidates, totalling 165 fits\n"
     ]
    },
    {
     "name": "stderr",
     "output_type": "stream",
     "text": [
      "[Parallel(n_jobs=-1)]: Using backend LokyBackend with 8 concurrent workers.\n",
      "[Parallel(n_jobs=-1)]: Done  34 tasks      | elapsed:    3.1s\n",
      "[Parallel(n_jobs=-1)]: Done 165 out of 165 | elapsed:  6.5min finished\n"
     ]
    },
    {
     "name": "stdout",
     "output_type": "stream",
     "text": [
      "SVC\n",
      "Best Score: 0.2724458204334365\n",
      "Best Parameters: {'C': 1, 'degree': 5, 'kernel': 'poly'}\n"
     ]
    }
   ],
   "source": [
    "svc = SVC(probability = True)\n",
    "param_grid = tuned_parameters = [{'kernel': ['rbf'], 'gamma': [.1,.5,1,2,5,10],\n",
    "                                  'C': [.1, 1, 10, 100, 1000]},\n",
    "                                 {'kernel': ['linear'], 'C': [.1, 1, 10, 100, 1000]},\n",
    "                                 {'kernel': ['poly'], 'degree' : [2,3,4,5], 'C': [.1, 1, 10, 100, 1000]}]\n",
    "clf_svc = GridSearchCV(svc, param_grid = param_grid, cv = 3, verbose = True, n_jobs = -1)\n",
    "best_clf_svc = clf_svc.fit(X_train,y_train)\n",
    "clf_performance(best_clf_svc,'SVC')"
   ]
  },
  {
   "cell_type": "code",
   "execution_count": 33,
   "metadata": {
    "id": "y3Kt-YKt5DYq"
   },
   "outputs": [
    {
     "name": "stdout",
     "output_type": "stream",
     "text": [
      "Fitting 3 folds for each of 48 candidates, totalling 144 fits\n"
     ]
    },
    {
     "name": "stderr",
     "output_type": "stream",
     "text": [
      "[Parallel(n_jobs=-1)]: Using backend LokyBackend with 8 concurrent workers.\n",
      "[Parallel(n_jobs=-1)]: Done  60 tasks      | elapsed:    0.9s\n"
     ]
    },
    {
     "name": "stdout",
     "output_type": "stream",
     "text": [
      "KNN\n",
      "Best Score: 0.27347781217750256\n",
      "Best Parameters: {'algorithm': 'auto', 'n_neighbors': 3, 'p': 1, 'weights': 'distance'}\n"
     ]
    },
    {
     "name": "stderr",
     "output_type": "stream",
     "text": [
      "[Parallel(n_jobs=-1)]: Done 144 out of 144 | elapsed:    2.0s finished\n"
     ]
    }
   ],
   "source": [
    "knn = KNeighborsClassifier()\n",
    "param_grid = {'n_neighbors' : [3,5,7,9],\n",
    "              'weights' : ['uniform', 'distance'],\n",
    "              'algorithm' : ['auto', 'ball_tree','kd_tree'],\n",
    "              'p' : [1,2]}\n",
    "clf_knn = GridSearchCV(knn, param_grid = param_grid, cv = 3, verbose = True, n_jobs = -1)\n",
    "best_clf_knn = clf_knn.fit(X_train,y_train)\n",
    "clf_performance(best_clf_knn,'KNN')"
   ]
  },
  {
   "cell_type": "code",
   "execution_count": 42,
   "metadata": {},
   "outputs": [
    {
     "name": "stdout",
     "output_type": "stream",
     "text": [
      "MLP\n",
      "Best Score: 0.2652218782249742\n",
      "Best Parameters: {'activation': 'relu', 'hidden_layer_sizes': 5, 'learning_rate': 'constant', 'max_iter': 100}\n"
     ]
    },
    {
     "name": "stderr",
     "output_type": "stream",
     "text": [
      "/Users/fame/opt/anaconda3/lib/python3.8/site-packages/sklearn/neural_network/_multilayer_perceptron.py:582: ConvergenceWarning: Stochastic Optimizer: Maximum iterations (100) reached and the optimization hasn't converged yet.\n",
      "  warnings.warn(\n"
     ]
    }
   ],
   "source": [
    "from sklearn.neural_network import MLPClassifier\n",
    "from sklearn.model_selection import GridSearchCV\n",
    "from sklearn.metrics import classification_report\n",
    "\n",
    "parameters = {\n",
    "                      'learning_rate' : ['constant', 'adaptive'],\n",
    "                      'max_iter': [50,100,150,200],\n",
    "                      'hidden_layer_sizes':[5,10,15],\n",
    "                      'activation' : ['tanh','relu']}\n",
    "        \n",
    "clf_MLP = GridSearchCV(MLPClassifier(), parameters, n_jobs=-1,cv=3)\n",
    "        \n",
    "best_clf_MLP = clf_MLP.fit(X_train,y_train)\n",
    "clf_performance(best_clf_MLP,'MLP')"
   ]
  },
  {
   "cell_type": "code",
   "execution_count": 44,
   "metadata": {
    "id": "IMmd1dfl5cQu"
   },
   "outputs": [],
   "source": [
    "y_hat_xgb = best_clf_svc.best_estimator_.predict(X_test)\n",
    "y_hat_knn = best_clf_knn.best_estimator_.predict(X_test)\n",
    "y_hat_MLP = best_clf_MLP.best_estimator_.predict(X_test)"
   ]
  },
  {
   "cell_type": "code",
   "execution_count": 49,
   "metadata": {},
   "outputs": [
    {
     "name": "stdout",
     "output_type": "stream",
     "text": [
      "Confusion matrix, without normalization\n",
      "[[10 15 39 41]\n",
      " [ 6 10 47 39]\n",
      " [ 6  8 49 36]\n",
      " [11  8 48 43]]\n",
      "Normalized confusion matrix\n",
      "[[0.0952381  0.14285714 0.37142857 0.39047619]\n",
      " [0.05882353 0.09803922 0.46078431 0.38235294]\n",
      " [0.06060606 0.08080808 0.49494949 0.36363636]\n",
      " [0.1        0.07272727 0.43636364 0.39090909]]\n"
     ]
    },
    {
     "data": {
      "image/png": "[encoded data removed]",
      "text/plain": [
       "<Figure size 432x288 with 2 Axes>"
      ]
     },
     "metadata": {
      "needs_background": "light"
     },
     "output_type": "display_data"
    },
    {
     "data": {
      "image/png": "[encoded data removed]",
      "text/plain": [
       "<Figure size 432x288 with 2 Axes>"
      ]
     },
     "metadata": {
      "needs_background": "light"
     },
     "output_type": "display_data"
    }
   ],
   "source": [
    "# Plot non-normalized confusion matrix\n",
    "from sklearn.metrics import plot_confusion_matrix\n",
    "class_names = y.unique()\n",
    "titles_options = [(\"Confusion matrix, without normalization\", None),\n",
    "                  (\"Normalized confusion matrix\", 'true')]\n",
    "for title, normalize in titles_options:\n",
    "    disp = plot_confusion_matrix(best_clf_svc, X_test, y_test,\n",
    "                                 display_labels=class_names,\n",
    "                                 cmap=plt.cm.Blues,\n",
    "                                 normalize=normalize)\n",
    "    disp.ax_.set_title(title)\n",
    "\n",
    "    print(title)\n",
    "    print(disp.confusion_matrix)\n",
    "\n",
    "plt.show()"
   ]
  },
  {
   "cell_type": "code",
   "execution_count": 50,
   "metadata": {},
   "outputs": [
    {
     "name": "stdout",
     "output_type": "stream",
     "text": [
      "Confusion matrix, without normalization\n",
      "[[26 26 23 30]\n",
      " [21 19 27 35]\n",
      " [24 14 35 26]\n",
      " [27 28 25 30]]\n",
      "Normalized confusion matrix\n",
      "[[0.24761905 0.24761905 0.21904762 0.28571429]\n",
      " [0.20588235 0.18627451 0.26470588 0.34313725]\n",
      " [0.24242424 0.14141414 0.35353535 0.26262626]\n",
      " [0.24545455 0.25454545 0.22727273 0.27272727]]\n"
     ]
    },
    {
     "data": {
      "image/png": "[encoded data removed]",
      "text/plain": [
       "<Figure size 432x288 with 2 Axes>"
      ]
     },
     "metadata": {
      "needs_background": "light"
     },
     "output_type": "display_data"
    },
    {
     "data": {
      "image/png": "[encoded data removed]",
      "text/plain": [
       "<Figure size 432x288 with 2 Axes>"
      ]
     },
     "metadata": {
      "needs_background": "light"
     },
     "output_type": "display_data"
    }
   ],
   "source": [
    "# Plot non-normalized confusion matrix\n",
    "from sklearn.metrics import plot_confusion_matrix\n",
    "class_names = y.unique()\n",
    "titles_options = [(\"Confusion matrix, without normalization\", None),\n",
    "                  (\"Normalized confusion matrix\", 'true')]\n",
    "for title, normalize in titles_options:\n",
    "    disp = plot_confusion_matrix(best_clf_knn, X_test, y_test,\n",
    "                                 display_labels=class_names,\n",
    "                                 cmap=plt.cm.Blues,\n",
    "                                 normalize=normalize)\n",
    "    disp.ax_.set_title(title)\n",
    "\n",
    "    print(title)\n",
    "    print(disp.confusion_matrix)\n",
    "\n",
    "plt.show()"
   ]
  },
  {
   "cell_type": "code",
   "execution_count": 51,
   "metadata": {},
   "outputs": [
    {
     "name": "stdout",
     "output_type": "stream",
     "text": [
      "Confusion matrix, without normalization\n",
      "[[41 16 22 26]\n",
      " [35 17 29 21]\n",
      " [39 14 23 23]\n",
      " [48 12 28 22]]\n",
      "Normalized confusion matrix\n",
      "[[0.39047619 0.15238095 0.20952381 0.24761905]\n",
      " [0.34313725 0.16666667 0.28431373 0.20588235]\n",
      " [0.39393939 0.14141414 0.23232323 0.23232323]\n",
      " [0.43636364 0.10909091 0.25454545 0.2       ]]\n"
     ]
    },
    {
     "data": {
      "image/png": "[encoded data removed]",
      "text/plain": [
       "<Figure size 432x288 with 2 Axes>"
      ]
     },
     "metadata": {
      "needs_background": "light"
     },
     "output_type": "display_data"
    },
    {
     "data": {
      "image/png": "[encoded data removed]",
      "text/plain": [
       "<Figure size 432x288 with 2 Axes>"
      ]
     },
     "metadata": {
      "needs_background": "light"
     },
     "output_type": "display_data"
    }
   ],
   "source": [
    "# Plot non-normalized confusion matrix\n",
    "from sklearn.metrics import plot_confusion_matrix\n",
    "from sklearn.metrics import classification_report\n",
    "class_names = y.unique()\n",
    "titles_options = [(\"Confusion matrix, without normalization\", None),\n",
    "                  (\"Normalized confusion matrix\", 'true')]\n",
    "for title, normalize in titles_options:\n",
    "    disp = plot_confusion_matrix(best_clf_MLP, X_test, y_test,\n",
    "                                 display_labels=class_names,\n",
    "                                 cmap=plt.cm.Blues,\n",
    "                                 normalize=normalize)\n",
    "    disp.ax_.set_title(title)\n",
    "\n",
    "    print(title)\n",
    "    print(disp.confusion_matrix)\n",
    "\n",
    "plt.show()\n",
    "classification_report"
   ]
  },
  {
   "cell_type": "code",
   "execution_count": null,
   "metadata": {},
   "outputs": [],
   "source": []
  }
 ],
 "metadata": {
  "accelerator": "GPU",
  "colab": {
   "collapsed_sections": [],
   "name": "miniproj-ann.ipynb",
   "provenance": []
  },
  "kernelspec": {
   "display_name": "Python 3",
   "language": "python",
   "name": "python3"
  },
  "language_info": {
   "codemirror_mode": {
    "name": "ipython",
    "version": 3
   },
   "file_extension": ".py",
   "mimetype": "text/x-python",
   "name": "python",
   "nbconvert_exporter": "python",
   "pygments_lexer": "ipython3",
   "version": "3.8.3"
  }
 },
 "nbformat": 4,
 "nbformat_minor": 1
}
